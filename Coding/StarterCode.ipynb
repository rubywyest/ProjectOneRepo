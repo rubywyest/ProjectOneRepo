{
 "cells": [
  {
   "cell_type": "code",
   "execution_count": 2,
   "metadata": {},
   "outputs": [],
   "source": [
    "# Dependencies and Setup\n",
    "\n",
    "import pandas as pd\n",
    "import numpy as np\n",
    "import os\n",
    "import csv"
   ]
  },
  {
   "cell_type": "code",
   "execution_count": 3,
   "metadata": {},
   "outputs": [],
   "source": [
    "#Starter Code Files - Imports\n",
    "\n",
    "in_states = os.path.join(\"..\",\"Resources\",\"BLS_state_M2018_dl.csv\")\n",
    "states_df = pd.read_csv(in_states)\n",
    "\n",
    "in_nation = os.path.join(\"..\",\"Resources\",\"BLS national_M2018_dl.csv\")\n",
    "nation_df = pd.read_csv(in_nation)\n",
    "\n",
    "#convert Total column to integer\n",
    "\n",
    "nation_df['TOT_EMP'] = nation_df['TOT_EMP'].str.replace(',', '').astype(int)\n",
    "states_df['TOT_EMP'] = nation_df['TOT_EMP'].str.replace(',', '').astype(int)\n"
   ]
  }
 ],
 "metadata": {
  "kernelspec": {
   "display_name": "Python 3",
   "language": "python",
   "name": "python3"
  },
  "language_info": {
   "codemirror_mode": {
    "name": "ipython",
    "version": 3
   },
   "file_extension": ".py",
   "mimetype": "text/x-python",
   "name": "python",
   "nbconvert_exporter": "python",
   "pygments_lexer": "ipython3",
   "version": "3.7.3"
  }
 },
 "nbformat": 4,
 "nbformat_minor": 2
}
